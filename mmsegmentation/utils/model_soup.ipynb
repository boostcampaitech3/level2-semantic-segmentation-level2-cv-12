{
 "cells": [
  {
   "cell_type": "code",
   "execution_count": 1,
   "metadata": {},
   "outputs": [
    {
     "name": "stderr",
     "output_type": "stream",
     "text": [
      "/opt/conda/envs/open-mmlab/lib/python3.8/site-packages/tqdm/auto.py:22: TqdmWarning: IProgress not found. Please update jupyter and ipywidgets. See https://ipywidgets.readthedocs.io/en/stable/user_install.html\n",
      "  from .autonotebook import tqdm as notebook_tqdm\n"
     ]
    }
   ],
   "source": [
    "import torch"
   ]
  },
  {
   "cell_type": "code",
   "execution_count": null,
   "metadata": {},
   "outputs": [],
   "source": [
    "kfold0 = torch.load(\"/opt/ml/mms/mmsegmentation/work_dirs/swin_large/0/best_mIoU_epoch_60.pth\")\n",
    "kfold1 = torch.load(\"/opt/ml/mms/mmsegmentation/work_dirs/swin_large/1/best_mIoU_epoch_96.pth\")\n",
    "kfold2 = torch.load(\"/opt/ml/mms/mmsegmentation/work_dirs/swin_large/2/best_mIoU_epoch_95.pth\")\n",
    "kfold3 = torch.load(\"/opt/ml/mms/mmsegmentation/work_dirs/swin_large/3/best_mIoU_epoch_82.pth\")\n",
    "kfold4 = torch.load(\"/opt/ml/mms/mmsegmentation/work_dirs/swin_large/4/best_mIoU_epoch_84.pth\")"
   ]
  },
  {
   "cell_type": "code",
   "execution_count": null,
   "metadata": {},
   "outputs": [],
   "source": [
    "x= [kfold1,kfold2,kfold3,kfold4]"
   ]
  },
  {
   "cell_type": "markdown",
   "metadata": {},
   "source": [
    "<h1>모델 구조 확인하고 backbone만 weight average 계산 </h1>"
   ]
  },
  {
   "cell_type": "code",
   "execution_count": null,
   "metadata": {},
   "outputs": [],
   "source": [
    "for j in x:\n",
    "    for i in kfold0['state_dict']:\n",
    "        if i.startswith(\"backbone\"):\n",
    "            kfold0['state_dict'][i] += j['state_dict'][i]\n",
    "\n",
    "for i in kfold0['state_dict']:\n",
    "    if i.startswith(\"backbone\"):\n",
    "        kfold0['state_dict'][i] = kfold0['state_dict'][i] / 5"
   ]
  },
  {
   "cell_type": "code",
   "execution_count": null,
   "metadata": {},
   "outputs": [],
   "source": [
    "torch.save(kfold0,\"/opt/ml/mms/mmsegmentation/work_dirs/swin_large/4/kfold142.pth\")"
   ]
  }
 ],
 "metadata": {
  "interpreter": {
   "hash": "5d0c2b1480244832d7dbf237984b0f05a268e3e22e4477542a885f8374c01bd9"
  },
  "kernelspec": {
   "display_name": "Python 3.8.13 ('open-mmlab')",
   "language": "python",
   "name": "python3"
  },
  "language_info": {
   "codemirror_mode": {
    "name": "ipython",
    "version": 3
   },
   "file_extension": ".py",
   "mimetype": "text/x-python",
   "name": "python",
   "nbconvert_exporter": "python",
   "pygments_lexer": "ipython3",
   "version": "3.8.13"
  },
  "orig_nbformat": 4
 },
 "nbformat": 4,
 "nbformat_minor": 2
}
